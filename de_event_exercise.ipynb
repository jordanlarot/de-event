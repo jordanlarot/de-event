{
  "cells": [
    {
      "cell_type": "markdown",
      "metadata": {
        "id": "vY_dL3RdzK4K"
      },
      "source": [
        "# Data Engineering Event | Created by Jordan Larot"
      ]
    },
    {
      "cell_type": "markdown",
      "metadata": {
        "id": "Ds3A7X18qm1q"
      },
      "source": [
        "## Install libraries"
      ]
    },
    {
      "cell_type": "code",
      "execution_count": null,
      "metadata": {
        "id": "mir_TKTsdvqN"
      },
      "outputs": [],
      "source": [
        "!pip install pandas lxml"
      ]
    },
    {
      "cell_type": "markdown",
      "metadata": {
        "id": "fnchdlJu68fn"
      },
      "source": [
        "# Exercise 1: Data Engineering"
      ]
    },
    {
      "cell_type": "markdown",
      "metadata": {
        "id": "ccVDqKLjqezG"
      },
      "source": [
        "## Data Extraction"
      ]
    },
    {
      "cell_type": "code",
      "execution_count": null,
      "metadata": {
        "id": "6wW6QAt1iITo"
      },
      "outputs": [],
      "source": [
        "# Import pandas\n",
        "import pandas as pd\n",
        "\n",
        "# Specify url \n",
        "url = 'https://www.worldometers.info/world-population/population-by-country/'\n",
        "\n",
        "# Scrape website\n",
        "tables = pd._______(url) ##### fill in blank \n",
        "\n",
        "# Select the first element of tables\n",
        "df = tables[0]\n",
        "\n",
        "# Preview raw data\n",
        "df.head()"
      ]
    },
    {
      "cell_type": "markdown",
      "metadata": {
        "id": "8Y-TnrlVq49R"
      },
      "source": [
        "## Data Preparation "
      ]
    },
    {
      "cell_type": "code",
      "execution_count": null,
      "metadata": {
        "id": "wJAyOQMAkCGO"
      },
      "outputs": [],
      "source": [
        "# Rename columns\n",
        "df = df.rename(columns={\n",
        "    'Country (or dependency)': '_______', ##### fill in the blank  \n",
        "    'Population  (2020)': '_______',  ##### fill in the blank  \n",
        "    'Med.  Age': 'median_age'})  \n",
        "\n",
        "# Drop columns\n",
        "df = df.drop(['#', \n",
        "              'Yearly  Change', \n",
        "              'Net  Change',\n",
        "              'Density  (P/Km²)',\n",
        "              'Land Area  (Km²)',\n",
        "              'Migrants  (net)',\n",
        "              'Fert.  Rate',\n",
        "              'Urban  Pop %',\n",
        "              'World  Share'\n",
        "              ],\n",
        "             axis=1)\n",
        "\n",
        "# Remove countries with no median age\n",
        "df = df[df['median_age'] != 'N.A.']\n",
        "\n",
        "# Set index to the country\n",
        "df = df.set_index('country', \n",
        "                  drop=True)\n",
        "\n",
        "# Preview\n",
        "df.head()"
      ]
    },
    {
      "cell_type": "markdown",
      "metadata": {
        "id": "iloytUNbrVmW"
      },
      "source": [
        "## Data Visualization"
      ]
    },
    {
      "cell_type": "code",
      "execution_count": null,
      "metadata": {
        "id": "Og3fp0sWmAr3"
      },
      "outputs": [],
      "source": [
        "##### DO NOT EDIT CODE BELOW\n",
        "\n",
        "# Create dataframe with top 10 countries with the highest population \n",
        "df_10 = df.copy().sort_values('population', ascending=False)[:10]\n",
        "\n",
        "# Sort values by ascending \n",
        "df_10 = df_10.sort_values('population', ascending=True)\n",
        "\n",
        "# Create horizontal bar chart for the countries with the highest population \n",
        "df_10.plot.barh(y='population')\n",
        "\n",
        "##### DO NOT EDIT CODE ABOVE "
      ]
    },
    {
      "cell_type": "markdown",
      "metadata": {
        "id": "ru0D_zovnPqm"
      },
      "source": [
        "### Q1 | From the bar chart above, which country has the highest population?"
      ]
    },
    {
      "cell_type": "code",
      "execution_count": null,
      "metadata": {
        "id": "MXotk1IDnVxR"
      },
      "outputs": [],
      "source": [
        "# User response\n",
        "user_answer = str(input('From the bar chart above, which country has the highest population?\\n'))\n",
        "\n",
        "if user_answer.lower() == (pd.read_csv('https://raw.githubusercontent.com/jordanlarot/de-event/main/answers.csv').iloc[357, 1]).lower():\n",
        "  print('\\nCorrect!')\n",
        "else:\n",
        "  print('\\nIncorrect!')"
      ]
    },
    {
      "cell_type": "markdown",
      "metadata": {
        "id": "eVkK-hZYuVDi"
      },
      "source": [
        "## Database\n"
      ]
    },
    {
      "cell_type": "markdown",
      "metadata": {
        "id": "2-G9nWB_6SyI"
      },
      "source": [
        "#### Database Creation"
      ]
    },
    {
      "cell_type": "code",
      "execution_count": null,
      "metadata": {
        "id": "Ztpxr37Sr_kL"
      },
      "outputs": [],
      "source": [
        "# Import library\n",
        "import _______ ##### fill in the blank  \n",
        "\n",
        "# Specify database name\n",
        "db_name = input(\"Name your database: \")"
      ]
    },
    {
      "cell_type": "code",
      "source": [
        "# Connect to a new database file (creates a new file if it doesn't exist)\n",
        "conn = sqlite3._______(f'{db_name}.db') ##### fill in blank \n",
        "\n",
        "# Confirmation message for database creation\n",
        "print(f\"\\nDatabase: {db_name} successfully created.\")\n",
        "\n",
        "# Close connection to the database\n",
        "conn.close()"
      ],
      "metadata": {
        "id": "tKm9N_uuQczp"
      },
      "execution_count": null,
      "outputs": []
    },
    {
      "cell_type": "markdown",
      "metadata": {
        "id": "dxTzBIm4uhXT"
      },
      "source": [
        "#### Creating Tables"
      ]
    },
    {
      "cell_type": "code",
      "execution_count": null,
      "metadata": {
        "id": "iepgkweCdQsV"
      },
      "outputs": [],
      "source": [
        "# Connect to the database file\n",
        "conn = sqlite3.connect(f'{db_name}.db') \n",
        "\n",
        "# Specify table name\n",
        "table_name = input(\"Name your table: \")"
      ]
    },
    {
      "cell_type": "code",
      "source": [
        "# Create a new table \n",
        "conn.execute(f'''CREATE TABLE {table_name}\n",
        "                 (id TEXT PRIMARY KEY NOT NULL,\n",
        "                 population INT NOT NULL,\n",
        "                 median_age INT NOT NULL);''')\n",
        "\n",
        "# Confirmation message for table creation\n",
        "print(f'\\nTable: {table_name} successfully created.')\n",
        "\n",
        "# Write the DataFrame to a new table in the database\n",
        "df.to_sql(f'{table_name}', \n",
        "          conn, \n",
        "          if_exists='replace', \n",
        "          index=True)\n",
        "\n",
        "# Commit the changes to the database\n",
        "conn._______()  ##### fill in blank\n",
        "\n",
        "# Close connection to the database\n",
        "conn.close()"
      ],
      "metadata": {
        "id": "WlzUcnKJQ0BR"
      },
      "execution_count": null,
      "outputs": []
    },
    {
      "cell_type": "markdown",
      "metadata": {
        "id": "17jaEdhuyI1J"
      },
      "source": [
        "# Exercise 2: SQL"
      ]
    },
    {
      "cell_type": "markdown",
      "metadata": {
        "id": "xZ1Xl_iR7YPY"
      },
      "source": [
        "## Populations"
      ]
    },
    {
      "cell_type": "markdown",
      "source": [
        "### How to query"
      ],
      "metadata": {
        "id": "dCKEGEyNAgiO"
      }
    },
    {
      "cell_type": "code",
      "execution_count": null,
      "metadata": {
        "id": "vP-pEQgMwa2C"
      },
      "outputs": [],
      "source": [
        "# Create function to print query\n",
        "def print_query():\n",
        "\n",
        "  # Query the data from the database and load it into a DataFrame\n",
        "  output = pd.read_sql_query(SQL_STATEMENT, \n",
        "                             conn)\n",
        "  # Show SQL statement\n",
        "  print(f'SQL Statement:{SQL_STATEMENT}')\n",
        "\n",
        "  # Show output\n",
        "  return output"
      ]
    },
    {
      "cell_type": "markdown",
      "metadata": {
        "id": "Obo4KwefmNKn"
      },
      "source": [
        "#### Q2 | How many countries have a median age greater than 45 years?"
      ]
    },
    {
      "cell_type": "code",
      "execution_count": null,
      "metadata": {
        "id": "kD5XYX0MyiX7"
      },
      "outputs": [],
      "source": [
        "# Connect to the database\n",
        "conn = sqlite3.connect(f'{db_name}.db')\n",
        "\n",
        "##### EDIT CODE BELOW\n",
        "\n",
        "# Create query statement\n",
        "SQL_STATEMENT = \"\"\"\n",
        "\n",
        "\n",
        "\n",
        "\"\"\"\n",
        "\n",
        "##### EDIT CODE ABOVE\n",
        "\n",
        "# Print query\n",
        "print_query()"
      ]
    },
    {
      "cell_type": "code",
      "execution_count": null,
      "metadata": {
        "id": "xeoGcwAallgY"
      },
      "outputs": [],
      "source": [
        "# User response\n",
        "user_answer = str(input('How many countries have a median age greater than 45 years?\\n'))\n",
        "\n",
        "if user_answer == str(pd.read_csv('https://raw.githubusercontent.com/jordanlarot/de-event/main/answers.csv').iloc[357, 2]):\n",
        "  print('\\nCorrect!')\n",
        "else:\n",
        "  print('\\nIncorrect!')"
      ]
    },
    {
      "cell_type": "markdown",
      "metadata": {
        "id": "kpOZgTK3litq"
      },
      "source": [
        "#### Q3 | What is the median age of the Congo?"
      ]
    },
    {
      "cell_type": "code",
      "execution_count": null,
      "metadata": {
        "id": "aqIQAQ-Dom-i"
      },
      "outputs": [],
      "source": [
        "# Connect to the database\n",
        "conn = sqlite3.connect(f'{db_name}.db')\n",
        "\n",
        "##### EDIT CODE BELOW\n",
        "\n",
        "# Create query statement\n",
        "SQL_STATEMENT = \"\"\"\n",
        "\n",
        "\n",
        "\n",
        "\"\"\"\n",
        "\n",
        "##### EDIT CODE ABOVE\n",
        "\n",
        "# Print query\n",
        "print_query()"
      ]
    },
    {
      "cell_type": "code",
      "execution_count": null,
      "metadata": {
        "id": "1MhuRYsgky_a"
      },
      "outputs": [],
      "source": [
        "# User response\n",
        "user_answer = str(input('What is the median age of the Congo?\\n'))\n",
        "\n",
        "if user_answer == str(pd.read_csv('https://raw.githubusercontent.com/jordanlarot/de-event/main/answers.csv').iloc[357, 3]):\n",
        "  print('\\nCorrect!')\n",
        "else:\n",
        "  print('\\nIncorrect!')"
      ]
    },
    {
      "cell_type": "markdown",
      "source": [
        "### How to join tables"
      ],
      "metadata": {
        "id": "eGKrq2FsJNDe"
      }
    },
    {
      "cell_type": "code",
      "source": [
        "# Specify urls\n",
        "gdp_url = 'https://www.worldometers.info/gdp/gdp-per-capita/'\n",
        "\n",
        "# Scrape website\n",
        "tables = pd.read_html(gdp_url) \n",
        "\n",
        "# Select the first element of tables\n",
        "gdp_df = tables[0]\n",
        "\n",
        "# Subset gdp_df\n",
        "gdp_df = gdp_df[['Country', 'GDP (PPP) per capita (2017)']]\n",
        "\n",
        "# Rename cilumns\n",
        "gdp_df = gdp_df.rename(columns={'Country': 'country',\n",
        "                                'GDP (PPP) per capita (2017)': 'gdp_per_capita'})\n",
        "\n",
        "# Set country as index\n",
        "gdp_df = gdp_df.set_index('country')\n",
        "\n",
        "# Preview raw data\n",
        "gdp_df.head()"
      ],
      "metadata": {
        "id": "w5nmUQLU9vnL"
      },
      "execution_count": null,
      "outputs": []
    },
    {
      "cell_type": "code",
      "source": [
        "# Create a connection to the database\n",
        "conn = sqlite3.connect(f'{db_name}.db')\n",
        "\n",
        "# Add dataframes as a table in the database\n",
        "gdp_df.to_sql('gdp', \n",
        "                 conn, \n",
        "                 if_exists='replace', \n",
        "                 index=True)\n",
        "\n",
        "# Commit the changes to the database\n",
        "conn.commit() \n",
        "\n",
        "# Close connection to the database\n",
        "conn.close()"
      ],
      "metadata": {
        "id": "nmS5mEi09q-E"
      },
      "execution_count": null,
      "outputs": []
    },
    {
      "cell_type": "markdown",
      "source": [
        "#### Q4 | What is the GDP per capita for the United States?"
      ],
      "metadata": {
        "id": "_TUygZDxG7oP"
      }
    },
    {
      "cell_type": "code",
      "source": [
        "# Connect to the database\n",
        "conn = sqlite3.connect(f'{db_name}.db')\n",
        "\n",
        "##### EDIT CODE BELOW\n",
        "\n",
        "# Create query statement\n",
        "SQL_STATEMENT = \"\"\"\n",
        "\n",
        "\n",
        "\n",
        "\"\"\"\n",
        "\n",
        "##### EDIT CODE ABOVE\n",
        "\n",
        "# Print query\n",
        "print_query()"
      ],
      "metadata": {
        "id": "wMME98hCG0kw"
      },
      "execution_count": null,
      "outputs": []
    },
    {
      "cell_type": "code",
      "source": [
        "# User response\n",
        "user_answer = str(input('What is the GDP per capita for the United States? (do not put commas)\\n'))\n",
        "\n",
        "if user_answer == str(pd.read_csv('https://raw.githubusercontent.com/jordanlarot/de-event/main/answers.csv').iloc[357, 4]):\n",
        "  print('\\nCorrect!')\n",
        "else:\n",
        "  print('\\nIncorrect!')"
      ],
      "metadata": {
        "id": "FBfYrV6zG-tH"
      },
      "execution_count": null,
      "outputs": []
    },
    {
      "cell_type": "markdown",
      "metadata": {
        "id": "5lQKcftNsx8H"
      },
      "source": [
        "## People"
      ]
    },
    {
      "cell_type": "markdown",
      "metadata": {
        "id": "wpiISmjOs71u"
      },
      "source": [
        "### Storing data to database"
      ]
    },
    {
      "cell_type": "code",
      "execution_count": null,
      "metadata": {
        "id": "EUJoD5G_aKI6"
      },
      "outputs": [],
      "source": [
        "# Specify urls\n",
        "people_url = 'https://raw.githubusercontent.com/jordanlarot/de-event/main/people.csv'\n",
        "demographics_url = 'https://raw.githubusercontent.com/jordanlarot/de-event/main/demographics.csv'\n",
        "\n",
        "# Load files as dataframes\n",
        "people_df = pd.read_csv(people_url, index_col=0)\n",
        "demographics_df = pd.read_csv(demographics_url, index_col=0)"
      ]
    },
    {
      "cell_type": "code",
      "execution_count": null,
      "metadata": {
        "id": "2FBibvnRajOB"
      },
      "outputs": [],
      "source": [
        "# Create a connection to the database\n",
        "conn = sqlite3.connect('people.db')\n",
        "\n",
        "# Add dataframes as a table in the database\n",
        "people_df.to_sql('people', \n",
        "                 conn, \n",
        "                 if_exists='replace', \n",
        "                 index=True)\n",
        "\n",
        "demographics_df.to_sql('demographics', \n",
        "                       conn, \n",
        "                       if_exists='replace', \n",
        "                       index=True)\n",
        "\n",
        "# Commit the changes to the database\n",
        "conn.commit() \n",
        "\n",
        "# Close connection to the database\n",
        "conn.close()"
      ]
    },
    {
      "cell_type": "markdown",
      "metadata": {
        "id": "4ePWPQaMgOTb"
      },
      "source": [
        "### Columns in each table\n",
        "\n",
        "people:\n",
        "*   id\n",
        "*   first_name\n",
        "*   last_name\n",
        "*   email\n",
        "*   education\n",
        "*   occupation\n",
        "*   years_of_experience\n",
        "*   monthly_salary\n",
        "\n",
        "demographics:\n",
        "*   id\n",
        "*   gender\n",
        "*   age"
      ]
    },
    {
      "cell_type": "markdown",
      "metadata": {
        "id": "4LFUfy4wq59w"
      },
      "source": [
        "### Q5 | How many females are there?\n",
        "*You need to use COUNT()*"
      ]
    },
    {
      "cell_type": "code",
      "execution_count": null,
      "metadata": {
        "id": "hdPi97ZCq5Un"
      },
      "outputs": [],
      "source": [
        "# Connect to the database\n",
        "conn = sqlite3.connect('people.db')\n",
        "\n",
        "##### EDIT CODE BELOW\n",
        "\n",
        "# Create query statement\n",
        "SQL_STATEMENT = \"\"\"\n",
        "\n",
        "\n",
        "\n",
        "\"\"\"\n",
        "\n",
        "##### EDIT CODE ABOVE\n",
        "\n",
        "# Print query\n",
        "print_query()"
      ]
    },
    {
      "cell_type": "code",
      "execution_count": null,
      "metadata": {
        "id": "uJhSc5PerTqz"
      },
      "outputs": [],
      "source": [
        "# User response\n",
        "user_answer = str(input('How many females are there?\\n'))\n",
        "\n",
        "if user_answer == str(pd.read_csv('https://raw.githubusercontent.com/jordanlarot/de-event/main/answers.csv').iloc[357, 5]):\n",
        "  print('\\nCorrect!')\n",
        "else:\n",
        "  print('\\nIncorrect!')"
      ]
    },
    {
      "cell_type": "markdown",
      "metadata": {
        "id": "YQklGXMzrqnB"
      },
      "source": [
        "### Q6 | What is the highest monthly salary? \n",
        "*You need to use a function*"
      ]
    },
    {
      "cell_type": "code",
      "execution_count": null,
      "metadata": {
        "id": "kz4fuNkjrz50"
      },
      "outputs": [],
      "source": [
        "# Connect to the database\n",
        "conn = sqlite3.connect('people.db')\n",
        "\n",
        "##### EDIT CODE BELOW\n",
        "\n",
        "# Create query statement\n",
        "SQL_STATEMENT = \"\"\"\n",
        "\n",
        "\n",
        "\n",
        "\"\"\"\n",
        "\n",
        "##### EDIT CODE ABOVE\n",
        "\n",
        "# Print query\n",
        "print_query()"
      ]
    },
    {
      "cell_type": "code",
      "execution_count": null,
      "metadata": {
        "id": "g2T9iJb7r1SF"
      },
      "outputs": [],
      "source": [
        "# User response\n",
        "user_answer = str(input('What is the highest monthly salary?\\n'))\n",
        "\n",
        "if user_answer == str(pd.read_csv('https://raw.githubusercontent.com/jordanlarot/de-event/main/answers.csv').iloc[357, 6]):\n",
        "  print('\\nCorrect!')\n",
        "else:\n",
        "  print('\\nIncorrect!')"
      ]
    },
    {
      "cell_type": "markdown",
      "metadata": {
        "id": "QDDoLzWVtgrP"
      },
      "source": [
        "### Q7 | What is the average years of experience for a person with a Master's degree? \n",
        "*You  need to use GROUP BY and AVG()* <br>\n",
        "*Example of GROUP BY:* <br>\n",
        "*SELECT column_name_1, column_name_2* <br>\n",
        "*FROM table* <br>\n",
        "*GROUP BY column_name_1;*"
      ]
    },
    {
      "cell_type": "code",
      "execution_count": null,
      "metadata": {
        "id": "7-nCC2IotmNZ"
      },
      "outputs": [],
      "source": [
        "# Connect to the database\n",
        "conn = sqlite3.connect('people.db')\n",
        "\n",
        "##### EDIT CODE BELOW\n",
        "\n",
        "# Create query statement\n",
        "SQL_STATEMENT = \"\"\"\n",
        "\n",
        "\n",
        "\n",
        "\"\"\"\n",
        "\n",
        "##### EDIT CODE ABOVE\n",
        "\n",
        "# Print query\n",
        "print_query()"
      ]
    },
    {
      "cell_type": "code",
      "source": [
        "# User response\n",
        "user_answer = str(input('What is the highest monthly salary?\\n'))\n",
        "\n",
        "if user_answer == str(pd.read_csv('https://raw.githubusercontent.com/jordanlarot/de-event/main/answers.csv').iloc[357, 7]):\n",
        "  print('\\nCorrect!')\n",
        "else:\n",
        "  print('\\nIncorrect!')"
      ],
      "metadata": {
        "id": "OmzszkYnKGBW"
      },
      "execution_count": null,
      "outputs": []
    },
    {
      "cell_type": "markdown",
      "metadata": {
        "id": "DSwvTqyZsgvm"
      },
      "source": [
        "## Joining data"
      ]
    },
    {
      "cell_type": "markdown",
      "metadata": {
        "id": "CEcsFepHiO_I"
      },
      "source": [
        "### Q8 | How old is Dr. Etu?\n",
        "*You need to join the two tables* <br>\n",
        "*look for last_name == 'Etu'*"
      ]
    },
    {
      "cell_type": "code",
      "execution_count": null,
      "metadata": {
        "id": "BnFpdeknqK7o"
      },
      "outputs": [],
      "source": [
        "# Connect to the database\n",
        "conn = sqlite3.connect('people.db')\n",
        "\n",
        "##### EDIT CODE BELOW\n",
        "\n",
        "# Create query statement\n",
        "SQL_STATEMENT = \"\"\"\n",
        "\n",
        "\n",
        "\n",
        "\"\"\"\n",
        "\n",
        "##### EDIT CODE ABOVE\n",
        "\n",
        "# Print query\n",
        "print_query()"
      ]
    },
    {
      "cell_type": "code",
      "execution_count": null,
      "metadata": {
        "id": "l4UYBf7PiQ4M"
      },
      "outputs": [],
      "source": [
        "# Run code and enter your answer\n",
        "user_answer = \"\"\n",
        "\n",
        "while user_answer != str(pd.read_csv('https://raw.githubusercontent.com/jordanlarot/de-event/main/answers.csv').iloc[357, 8]):\n",
        "  user_answer = str(input(\"How old is Dr. Etu?\\n\"))\n",
        "\n",
        "  if user_answer == str(pd.read_csv('https://raw.githubusercontent.com/jordanlarot/de-event/main/answers.csv').iloc[357, 8]):\n",
        "    print(f\"\\nYes! Dr. Etu is {str(pd.read_csv('https://raw.githubusercontent.com/jordanlarot/de-event/main/answers.csv').iloc[357, 8])}!\")\n",
        "    break\n",
        "  else: \n",
        "    print(f'\\nNo! Dr. Etu is not {user_answer}!\\n')"
      ]
    }
  ],
  "metadata": {
    "colab": {
      "provenance": []
    },
    "kernelspec": {
      "display_name": "Python 3",
      "name": "python3"
    },
    "language_info": {
      "name": "python"
    }
  },
  "nbformat": 4,
  "nbformat_minor": 0
}